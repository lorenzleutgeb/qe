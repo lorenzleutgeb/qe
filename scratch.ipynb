{
 "cells": [
  {
   "cell_type": "code",
   "execution_count": 6,
   "metadata": {},
   "outputs": [],
   "source": [
    "from logic1 import *\n",
    "from logic1.atomlib.sympy import *\n",
    "from simplify import simplify\n",
    "from sympy.abc import x, y, z"
   ]
  },
  {
   "cell_type": "code",
   "execution_count": 7,
   "metadata": {},
   "outputs": [
    {
     "data": {
      "text/latex": [
       "$\\displaystyle \\exists x \\, ((x \\leq 1 \\, \\vee \\, x \\leq 0) \\, \\wedge \\, (x > 0 \\, \\vee \\, x > 1))$"
      ],
      "text/plain": [
       "Ex(x, And(Or(Le(x, 1), Le(x, 0)), Or(Gt(x, 0), Gt(x, 1))))"
      ]
     },
     "execution_count": 7,
     "metadata": {},
     "output_type": "execute_result"
    }
   ],
   "source": [
    "simplify(Ex(x, Equivalent(Le(x, 0), Gt(x, 1))))"
   ]
  }
 ],
 "metadata": {
  "kernelspec": {
   "display_name": "Python 3",
   "language": "python",
   "name": "python3"
  },
  "language_info": {
   "codemirror_mode": {
    "name": "ipython",
    "version": 3
   },
   "file_extension": ".py",
   "mimetype": "text/x-python",
   "name": "python",
   "nbconvert_exporter": "python",
   "pygments_lexer": "ipython3",
   "version": "3.10.9"
  },
  "orig_nbformat": 4
 },
 "nbformat": 4,
 "nbformat_minor": 2
}
