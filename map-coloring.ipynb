{
 "cells": [
  {
   "cell_type": "code",
   "execution_count": 1,
   "id": "cc0d006e",
   "metadata": {},
   "outputs": [],
   "source": [
    "%config InteractiveShell.ast_node_interactivity='all'\n",
    "\n",
    "import itertools\n",
    "import sympy\n",
    "from sympy.abc import v, u, x, y, z\n",
    "from logic1 import *\n",
    "from qe.theories.sets import *\n",
    "from qe.util import show_progress, closure"
   ]
  },
  {
   "cell_type": "code",
   "execution_count": 2,
   "id": "3f4c9266",
   "metadata": {},
   "outputs": [
    {
     "data": {
      "text/latex": [
       "$\\displaystyle \\forall v \\, \\exists x \\, (x = u \\, \\wedge \\, x = v \\, \\wedge \\, y \\neq x)$"
      ],
      "text/plain": [
       "All(v, Ex(x, And(Eq(x, u), Eq(x, v), Ne(y, x))))"
      ]
     },
     "execution_count": 2,
     "metadata": {},
     "output_type": "execute_result"
    },
    {
     "data": {
      "text/latex": [
       "$\\displaystyle \\overline{C_2} \\, \\wedge \\, u \\neq y$"
      ],
      "text/plain": [
       "And(C_(2), Ne(u, y))"
      ]
     },
     "execution_count": 2,
     "metadata": {},
     "output_type": "execute_result"
    }
   ],
   "source": [
    "show_progress(False)\n",
    "f = All(v, Ex(x, Eq(x, u) & Eq(x, v) & Ne(y, x)))\n",
    "f\n",
    "qe(f)"
   ]
  },
  {
   "cell_type": "code",
   "execution_count": 3,
   "id": "c37f116b",
   "metadata": {},
   "outputs": [
    {
     "data": {
      "text/latex": [
       "$\\displaystyle \\exists x \\, (x = u \\, \\wedge \\, x = v)$"
      ],
      "text/plain": [
       "Ex(x, And(Eq(x, u), Eq(x, v)))"
      ]
     },
     "execution_count": 3,
     "metadata": {},
     "output_type": "execute_result"
    },
    {
     "data": {
      "text/latex": [
       "$\\displaystyle u = v$"
      ],
      "text/plain": [
       "Eq(u, v)"
      ]
     },
     "execution_count": 3,
     "metadata": {},
     "output_type": "execute_result"
    }
   ],
   "source": [
    "f = Ex(x, Eq(x, u) & Eq(x, v))\n",
    "f\n",
    "qe(f)"
   ]
  },
  {
   "cell_type": "code",
   "execution_count": 4,
   "id": "3aa714f7",
   "metadata": {},
   "outputs": [],
   "source": [
    "EU = list(sympy.var('c1:28'))  # type: ignore"
   ]
  },
  {
   "cell_type": "code",
   "execution_count": 5,
   "id": "51107cb8",
   "metadata": {},
   "outputs": [],
   "source": [
    "gamma = [\n",
    "    # Dummy\n",
    "    [T],\n",
    "    # Austria\n",
    "    [Ne(c1, c11), Ne(c1, c6), Ne(c1, c24), Ne(c1, c13), Ne(c1, c25),\n",
    "     Ne(c1, c15)],\n",
    "    # Belgium\n",
    "    [Ne(c2, c20), Ne(c2, c11), Ne(c2, c18), Ne(c2, c10)],\n",
    "    # Bulgaria\n",
    "    [Ne(c3, c23), Ne(c3, c12)],\n",
    "    # Croatia\n",
    "    [Ne(c4, c25), Ne(c4, c13)],\n",
    "    # Cyprus\n",
    "    [T],\n",
    "    # Czechia\n",
    "    [Ne(c6, c11), Ne(c6, c21), Ne(c6, c24), Ne(c6, c1)],\n",
    "    # Denmark\n",
    "    [Ne(c7, c11)],\n",
    "    # Estonia\n",
    "    [Ne(c8, c16)],\n",
    "    # Finland\n",
    "    [Ne(c9, c27)],\n",
    "    # France\n",
    "    [Ne(c10, c2), Ne(c10, c18), Ne(c10, c11), Ne(c10, c15), Ne(c10, c26)],\n",
    "    # Germany\n",
    "    [Ne(c11, c7), Ne(c11, c21), Ne(c11, c6), Ne(c11, c1), Ne(c11, c10),\n",
    "     Ne(c11, c18), Ne(c11, c2), Ne(c11, c20)],\n",
    "    # Greece\n",
    "    [Ne(c12, c3)],\n",
    "    # Hungary\n",
    "    [Ne(c13, c24), Ne(c13, c23), Ne(c13, c4), Ne(c13, c25), Ne(c13, c1)],\n",
    "    # Ireland\n",
    "    [T],\n",
    "    # Italy\n",
    "    [Ne(c15, c10), Ne(c15, c1), Ne(c15, c25)],\n",
    "    # Latvia\n",
    "    [Ne(c16, c8), Ne(c16, c17)],\n",
    "    # Lithuania\n",
    "    [Ne(c17, c16), Ne(c17, c21)],\n",
    "    # Luxembourg\n",
    "    [Ne(c18, c2), Ne(c18, c11), Ne(c18, c10)],\n",
    "    # Malta\n",
    "    [T],\n",
    "    # Netherlands\n",
    "    [Ne(c20, c11), Ne(c20, c2)],\n",
    "    # Poland\n",
    "    [Ne(c21, c17), Ne(c21, c25), Ne(c21, c6), Ne(c21, c11)],\n",
    "    # Portugal\n",
    "    [Ne(c22, c26)],\n",
    "    # Romania\n",
    "    [Ne(c23, c3), Ne(c23, c13)],\n",
    "    # Slovakia\n",
    "    [Ne(c24, c21), Ne(c24, c13), Ne(c24, c1), Ne(c24, c6)],\n",
    "    # Slovenia\n",
    "    [Ne(c25, c1), Ne(c25, c13), Ne(c25, c4), Ne(c25, c15)],\n",
    "    # Spain\n",
    "    [Ne(c26, c10), Ne(c26, c22)],\n",
    "    # Sweden\n",
    "    [Ne(c27, c9)]]"
   ]
  },
  {
   "cell_type": "code",
   "execution_count": 6,
   "id": "ad13492a",
   "metadata": {},
   "outputs": [],
   "source": [
    "psi = And(*(itertools.chain.from_iterable(gamma[1:])))"
   ]
  },
  {
   "cell_type": "code",
   "execution_count": 7,
   "id": "969a18dd",
   "metadata": {
    "scrolled": true
   },
   "outputs": [
    {
     "data": {
      "text/latex": [
       "$\\displaystyle \\exists c_{8} \\, \\exists c_{27} \\, \\exists c_{23} \\, \\exists c_{13} \\, \\exists c_{26} \\, \\exists c_{16} \\, \\exists c_{24} \\, \\exists c_{12} \\, \\exists c_{4} \\, \\exists c_{10} \\, \\exists c_{7} \\, \\exists c_{22} \\, \\exists c_{11} \\, \\exists c_{17} \\, \\exists c_{25} \\, \\exists c_{15} \\, \\exists c_{21} \\, \\exists c_{6} \\, \\exists c_{1} \\, \\exists c_{9} \\, \\exists c_{3} \\, \\exists c_{2} \\, \\exists c_{18} \\, \\exists c_{20} \\, (c_{1} \\neq c_{11} \\, \\wedge \\, c_{1} \\neq c_{6} \\, \\wedge \\, c_{1} \\neq c_{24} \\, \\wedge \\, c_{1} \\neq c_{13} \\, \\wedge \\, c_{1} \\neq c_{25} \\, \\wedge \\, c_{1} \\neq c_{15} \\, \\wedge \\, c_{2} \\neq c_{20} \\, \\wedge \\, c_{2} \\neq c_{11} \\, \\wedge \\, c_{2} \\neq c_{18} \\, \\wedge \\, c_{2} \\neq c_{10} \\, \\wedge \\, c_{3} \\neq c_{23} \\, \\wedge \\, c_{3} \\neq c_{12} \\, \\wedge \\, c_{4} \\neq c_{25} \\, \\wedge \\, c_{4} \\neq c_{13} \\, \\wedge \\, \\top \\, \\wedge \\, c_{6} \\neq c_{11} \\, \\wedge \\, c_{6} \\neq c_{21} \\, \\wedge \\, c_{6} \\neq c_{24} \\, \\wedge \\, c_{6} \\neq c_{1} \\, \\wedge \\, c_{7} \\neq c_{11} \\, \\wedge \\, c_{8} \\neq c_{16} \\, \\wedge \\, c_{9} \\neq c_{27} \\, \\wedge \\, c_{10} \\neq c_{2} \\, \\wedge \\, c_{10} \\neq c_{18} \\, \\wedge \\, c_{10} \\neq c_{11} \\, \\wedge \\, c_{10} \\neq c_{15} \\, \\wedge \\, c_{10} \\neq c_{26} \\, \\wedge \\, c_{11} \\neq c_{7} \\, \\wedge \\, c_{11} \\neq c_{21} \\, \\wedge \\, c_{11} \\neq c_{6} \\, \\wedge \\, c_{11} \\neq c_{1} \\, \\wedge \\, c_{11} \\neq c_{10} \\, \\wedge \\, c_{11} \\neq c_{18} \\, \\wedge \\, c_{11} \\neq c_{2} \\, \\wedge \\, c_{11} \\neq c_{20} \\, \\wedge \\, c_{12} \\neq c_{3} \\, \\wedge \\, c_{13} \\neq c_{24} \\, \\wedge \\, c_{13} \\neq c_{23} \\, \\wedge \\, c_{13} \\neq c_{4} \\, \\wedge \\, c_{13} \\neq c_{25} \\, \\wedge \\, c_{13} \\neq c_{1} \\, \\wedge \\, \\top \\, \\wedge \\, c_{15} \\neq c_{10} \\, \\wedge \\, c_{15} \\neq c_{1} \\, \\wedge \\, c_{15} \\neq c_{25} \\, \\wedge \\, c_{16} \\neq c_{8} \\, \\wedge \\, c_{16} \\neq c_{17} \\, \\wedge \\, c_{17} \\neq c_{16} \\, \\wedge \\, c_{17} \\neq c_{21} \\, \\wedge \\, c_{18} \\neq c_{2} \\, \\wedge \\, c_{18} \\neq c_{11} \\, \\wedge \\, c_{18} \\neq c_{10} \\, \\wedge \\, \\top \\, \\wedge \\, c_{20} \\neq c_{11} \\, \\wedge \\, c_{20} \\neq c_{2} \\, \\wedge \\, c_{21} \\neq c_{17} \\, \\wedge \\, c_{21} \\neq c_{25} \\, \\wedge \\, c_{21} \\neq c_{6} \\, \\wedge \\, c_{21} \\neq c_{11} \\, \\wedge \\, c_{22} \\neq c_{26} \\, \\wedge \\, c_{23} \\neq c_{3} \\, \\wedge \\, c_{23} \\neq c_{13} \\, \\wedge \\, c_{24} \\neq c_{21} \\, \\wedge \\, c_{24} \\neq c_{13} \\, \\wedge \\, c_{24} \\neq c_{1} \\, \\wedge \\, c_{24} \\neq c_{6} \\, \\wedge \\, c_{25} \\neq c_{1} \\, \\wedge \\, c_{25} \\neq c_{13} \\, \\wedge \\, c_{25} \\neq c_{4} \\, \\wedge \\, c_{25} \\neq c_{15} \\, \\wedge \\, c_{26} \\neq c_{10} \\, \\wedge \\, c_{26} \\neq c_{22} \\, \\wedge \\, c_{27} \\neq c_{9})$"
      ],
      "text/plain": [
       "Ex(c8, Ex(c27, Ex(c23, Ex(c13, Ex(c26, Ex(c16, Ex(c24, Ex(c12, Ex(c4, Ex(c10, Ex(c7, Ex(c22, Ex(c11, Ex(c17, Ex(c25, Ex(c15, Ex(c21, Ex(c6, Ex(c1, Ex(c9, Ex(c3, Ex(c2, Ex(c18, Ex(c20, And(Ne(c1, c11), Ne(c1, c6), Ne(c1, c24), Ne(c1, c13), Ne(c1, c25), Ne(c1, c15), Ne(c2, c20), Ne(c2, c11), Ne(c2, c18), Ne(c2, c10), Ne(c3, c23), Ne(c3, c12), Ne(c4, c25), Ne(c4, c13), T, Ne(c6, c11), Ne(c6, c21), Ne(c6, c24), Ne(c6, c1), Ne(c7, c11), Ne(c8, c16), Ne(c9, c27), Ne(c10, c2), Ne(c10, c18), Ne(c10, c11), Ne(c10, c15), Ne(c10, c26), Ne(c11, c7), Ne(c11, c21), Ne(c11, c6), Ne(c11, c1), Ne(c11, c10), Ne(c11, c18), Ne(c11, c2), Ne(c11, c20), Ne(c12, c3), Ne(c13, c24), Ne(c13, c23), Ne(c13, c4), Ne(c13, c25), Ne(c13, c1), T, Ne(c15, c10), Ne(c15, c1), Ne(c15, c25), Ne(c16, c8), Ne(c16, c17), Ne(c17, c16), Ne(c17, c21), Ne(c18, c2), Ne(c18, c11), Ne(c18, c10), T, Ne(c20, c11), Ne(c20, c2), Ne(c21, c17), Ne(c21, c25), Ne(c21, c6), Ne(c21, c11), Ne(c22, c26), Ne(c23, c3), Ne(c23, c13), Ne(c24, c21), Ne(c24, c13), Ne(c24, c1), Ne(c24, c6), Ne(c25, c1), Ne(c25, c13), Ne(c25, c4), Ne(c25, c15), Ne(c26, c10), Ne(c26, c22), Ne(c27, c9))))))))))))))))))))))))))"
      ]
     },
     "metadata": {},
     "output_type": "display_data"
    },
    {
     "name": "stdout",
     "output_type": "stream",
     "text": [
      "64.8 ms ± 1.92 ms per loop (mean ± std. dev. of 7 runs, 10 loops each)\n"
     ]
    },
    {
     "data": {
      "text/latex": [
       "$\\displaystyle C_4$"
      ],
      "text/plain": [
       "C(4)"
      ]
     },
     "execution_count": 7,
     "metadata": {},
     "output_type": "execute_result"
    },
    {
     "data": {
      "text/latex": [
       "$\\displaystyle C_2 \\, \\wedge \\, C_3 \\, \\wedge \\, C_4$"
      ],
      "text/plain": [
       "And(C(2), C(3), C(4))"
      ]
     },
     "execution_count": 7,
     "metadata": {},
     "output_type": "execute_result"
    }
   ],
   "source": [
    "show_progress(False)\n",
    "phi = closure(Ex, psi)\n",
    "display(phi)\n",
    "%timeit qe(phi)\n",
    "phi_prime = qe(phi)\n",
    "phi_prime\n",
    "C(2) & C(3) & C(4)"
   ]
  },
  {
   "cell_type": "code",
   "execution_count": 14,
   "id": "90740928",
   "metadata": {},
   "outputs": [
    {
     "data": {
      "text/latex": [
       "$\\displaystyle \\forall c_{6} \\, \\forall c_{13} \\, \\forall c_{15} \\, \\exists c_{27} \\, \\exists c_{26} \\, \\exists c_{25} \\, \\exists c_{24} \\, \\exists c_{23} \\, \\exists c_{22} \\, \\exists c_{21} \\, \\exists c_{20} \\, \\exists c_{19} \\, \\exists c_{18} \\, \\exists c_{17} \\, \\exists c_{16} \\, \\exists c_{14} \\, \\exists c_{12} \\, \\exists c_{11} \\, \\exists c_{10} \\, \\exists c_{9} \\, \\exists c_{8} \\, \\exists c_{7} \\, \\exists c_{5} \\, \\exists c_{4} \\, \\exists c_{3} \\, \\exists c_{2} \\, \\exists c_{1} \\, (c_{1} \\neq c_{11} \\, \\wedge \\, c_{1} \\neq c_{6} \\, \\wedge \\, c_{1} \\neq c_{24} \\, \\wedge \\, c_{1} \\neq c_{13} \\, \\wedge \\, c_{1} \\neq c_{25} \\, \\wedge \\, c_{1} \\neq c_{15} \\, \\wedge \\, c_{2} \\neq c_{20} \\, \\wedge \\, c_{2} \\neq c_{11} \\, \\wedge \\, c_{2} \\neq c_{18} \\, \\wedge \\, c_{2} \\neq c_{10} \\, \\wedge \\, c_{3} \\neq c_{23} \\, \\wedge \\, c_{3} \\neq c_{12} \\, \\wedge \\, c_{4} \\neq c_{25} \\, \\wedge \\, c_{4} \\neq c_{13} \\, \\wedge \\, \\top \\, \\wedge \\, c_{6} \\neq c_{11} \\, \\wedge \\, c_{6} \\neq c_{21} \\, \\wedge \\, c_{6} \\neq c_{24} \\, \\wedge \\, c_{6} \\neq c_{1} \\, \\wedge \\, c_{7} \\neq c_{11} \\, \\wedge \\, c_{8} \\neq c_{16} \\, \\wedge \\, c_{9} \\neq c_{27} \\, \\wedge \\, c_{10} \\neq c_{2} \\, \\wedge \\, c_{10} \\neq c_{18} \\, \\wedge \\, c_{10} \\neq c_{11} \\, \\wedge \\, c_{10} \\neq c_{15} \\, \\wedge \\, c_{10} \\neq c_{26} \\, \\wedge \\, c_{11} \\neq c_{7} \\, \\wedge \\, c_{11} \\neq c_{21} \\, \\wedge \\, c_{11} \\neq c_{6} \\, \\wedge \\, c_{11} \\neq c_{1} \\, \\wedge \\, c_{11} \\neq c_{10} \\, \\wedge \\, c_{11} \\neq c_{18} \\, \\wedge \\, c_{11} \\neq c_{2} \\, \\wedge \\, c_{11} \\neq c_{20} \\, \\wedge \\, c_{12} \\neq c_{3} \\, \\wedge \\, c_{13} \\neq c_{24} \\, \\wedge \\, c_{13} \\neq c_{23} \\, \\wedge \\, c_{13} \\neq c_{4} \\, \\wedge \\, c_{13} \\neq c_{25} \\, \\wedge \\, c_{13} \\neq c_{1} \\, \\wedge \\, \\top \\, \\wedge \\, c_{15} \\neq c_{10} \\, \\wedge \\, c_{15} \\neq c_{1} \\, \\wedge \\, c_{15} \\neq c_{25} \\, \\wedge \\, c_{16} \\neq c_{8} \\, \\wedge \\, c_{16} \\neq c_{17} \\, \\wedge \\, c_{17} \\neq c_{16} \\, \\wedge \\, c_{17} \\neq c_{21} \\, \\wedge \\, c_{18} \\neq c_{2} \\, \\wedge \\, c_{18} \\neq c_{11} \\, \\wedge \\, c_{18} \\neq c_{10} \\, \\wedge \\, \\top \\, \\wedge \\, c_{20} \\neq c_{11} \\, \\wedge \\, c_{20} \\neq c_{2} \\, \\wedge \\, c_{21} \\neq c_{17} \\, \\wedge \\, c_{21} \\neq c_{25} \\, \\wedge \\, c_{21} \\neq c_{6} \\, \\wedge \\, c_{21} \\neq c_{11} \\, \\wedge \\, c_{22} \\neq c_{26} \\, \\wedge \\, c_{23} \\neq c_{3} \\, \\wedge \\, c_{23} \\neq c_{13} \\, \\wedge \\, c_{24} \\neq c_{21} \\, \\wedge \\, c_{24} \\neq c_{13} \\, \\wedge \\, c_{24} \\neq c_{1} \\, \\wedge \\, c_{24} \\neq c_{6} \\, \\wedge \\, c_{25} \\neq c_{1} \\, \\wedge \\, c_{25} \\neq c_{13} \\, \\wedge \\, c_{25} \\neq c_{4} \\, \\wedge \\, c_{25} \\neq c_{15} \\, \\wedge \\, c_{26} \\neq c_{10} \\, \\wedge \\, c_{26} \\neq c_{22} \\, \\wedge \\, c_{27} \\neq c_{9})$"
      ],
      "text/plain": [
       "All(c6, All(c13, All(c15, Ex(c27, Ex(c26, Ex(c25, Ex(c24, Ex(c23, Ex(c22, Ex(c21, Ex(c20, Ex(c19, Ex(c18, Ex(c17, Ex(c16, Ex(c14, Ex(c12, Ex(c11, Ex(c10, Ex(c9, Ex(c8, Ex(c7, Ex(c5, Ex(c4, Ex(c3, Ex(c2, Ex(c1, And(Ne(c1, c11), Ne(c1, c6), Ne(c1, c24), Ne(c1, c13), Ne(c1, c25), Ne(c1, c15), Ne(c2, c20), Ne(c2, c11), Ne(c2, c18), Ne(c2, c10), Ne(c3, c23), Ne(c3, c12), Ne(c4, c25), Ne(c4, c13), T, Ne(c6, c11), Ne(c6, c21), Ne(c6, c24), Ne(c6, c1), Ne(c7, c11), Ne(c8, c16), Ne(c9, c27), Ne(c10, c2), Ne(c10, c18), Ne(c10, c11), Ne(c10, c15), Ne(c10, c26), Ne(c11, c7), Ne(c11, c21), Ne(c11, c6), Ne(c11, c1), Ne(c11, c10), Ne(c11, c18), Ne(c11, c2), Ne(c11, c20), Ne(c12, c3), Ne(c13, c24), Ne(c13, c23), Ne(c13, c4), Ne(c13, c25), Ne(c13, c1), T, Ne(c15, c10), Ne(c15, c1), Ne(c15, c25), Ne(c16, c8), Ne(c16, c17), Ne(c17, c16), Ne(c17, c21), Ne(c18, c2), Ne(c18, c11), Ne(c18, c10), T, Ne(c20, c11), Ne(c20, c2), Ne(c21, c17), Ne(c21, c25), Ne(c21, c6), Ne(c21, c11), Ne(c22, c26), Ne(c23, c3), Ne(c23, c13), Ne(c24, c21), Ne(c24, c13), Ne(c24, c1), Ne(c24, c6), Ne(c25, c1), Ne(c25, c13), Ne(c25, c4), Ne(c25, c15), Ne(c26, c10), Ne(c26, c22), Ne(c27, c9)))))))))))))))))))))))))))))"
      ]
     },
     "metadata": {},
     "output_type": "display_data"
    },
    {
     "data": {
      "text/latex": [
       "$\\displaystyle C_4$"
      ],
      "text/plain": [
       "C(4)"
      ]
     },
     "execution_count": 14,
     "metadata": {},
     "output_type": "execute_result"
    },
    {
     "data": {
      "text/latex": [
       "$\\displaystyle C_4 \\, \\wedge \\, C_3 \\, \\wedge \\, C_2$"
      ],
      "text/plain": [
       "And(C(4), C(3), C(2))"
      ]
     },
     "execution_count": 14,
     "metadata": {},
     "output_type": "execute_result"
    }
   ],
   "source": [
    "EU0 = EU.copy()\n",
    "EU0.remove(c6)  # Czechia\n",
    "EU0.remove(c13) # Hungary\n",
    "EU0.remove(c15) # Italy\n",
    "phi0 = psi\n",
    "for c in EU0:\n",
    "    phi0 = Ex(c, phi0)\n",
    "phi0 = All(c6, All(c13, All(c15, phi0)))\n",
    "display(phi0)\n",
    "# %timeit qe(phi0) # 53ms\n",
    "qe(phi0)\n",
    "C(4) & C(3) & C(2)"
   ]
  },
  {
   "cell_type": "code",
   "execution_count": 15,
   "id": "be03ec1c",
   "metadata": {},
   "outputs": [
    {
     "data": {
      "text/latex": [
       "$\\displaystyle c_{28}$"
      ],
      "text/plain": [
       "c28"
      ]
     },
     "execution_count": 15,
     "metadata": {},
     "output_type": "execute_result"
    },
    {
     "data": {
      "text/latex": [
       "$\\displaystyle c_{1} \\neq c_{11} \\, \\wedge \\, c_{1} \\neq c_{6} \\, \\wedge \\, c_{1} \\neq c_{24} \\, \\wedge \\, c_{1} \\neq c_{13} \\, \\wedge \\, c_{1} \\neq c_{25} \\, \\wedge \\, c_{1} \\neq c_{15} \\, \\wedge \\, c_{2} \\neq c_{20} \\, \\wedge \\, c_{2} \\neq c_{11} \\, \\wedge \\, c_{2} \\neq c_{18} \\, \\wedge \\, c_{2} \\neq c_{10} \\, \\wedge \\, c_{3} \\neq c_{23} \\, \\wedge \\, c_{3} \\neq c_{12} \\, \\wedge \\, c_{4} \\neq c_{25} \\, \\wedge \\, c_{4} \\neq c_{13} \\, \\wedge \\, \\top \\, \\wedge \\, c_{6} \\neq c_{11} \\, \\wedge \\, c_{6} \\neq c_{21} \\, \\wedge \\, c_{6} \\neq c_{24} \\, \\wedge \\, c_{6} \\neq c_{1} \\, \\wedge \\, c_{7} \\neq c_{11} \\, \\wedge \\, c_{8} \\neq c_{16} \\, \\wedge \\, c_{9} \\neq c_{27} \\, \\wedge \\, c_{10} \\neq c_{2} \\, \\wedge \\, c_{10} \\neq c_{18} \\, \\wedge \\, c_{10} \\neq c_{11} \\, \\wedge \\, c_{10} \\neq c_{15} \\, \\wedge \\, c_{10} \\neq c_{26} \\, \\wedge \\, c_{11} \\neq c_{7} \\, \\wedge \\, c_{11} \\neq c_{21} \\, \\wedge \\, c_{11} \\neq c_{6} \\, \\wedge \\, c_{11} \\neq c_{1} \\, \\wedge \\, c_{11} \\neq c_{10} \\, \\wedge \\, c_{11} \\neq c_{18} \\, \\wedge \\, c_{11} \\neq c_{2} \\, \\wedge \\, c_{11} \\neq c_{20} \\, \\wedge \\, c_{12} \\neq c_{3} \\, \\wedge \\, c_{13} \\neq c_{24} \\, \\wedge \\, c_{13} \\neq c_{23} \\, \\wedge \\, c_{13} \\neq c_{4} \\, \\wedge \\, c_{13} \\neq c_{25} \\, \\wedge \\, c_{13} \\neq c_{1} \\, \\wedge \\, \\top \\, \\wedge \\, c_{15} \\neq c_{10} \\, \\wedge \\, c_{15} \\neq c_{1} \\, \\wedge \\, c_{15} \\neq c_{25} \\, \\wedge \\, c_{16} \\neq c_{8} \\, \\wedge \\, c_{16} \\neq c_{17} \\, \\wedge \\, c_{17} \\neq c_{16} \\, \\wedge \\, c_{17} \\neq c_{21} \\, \\wedge \\, c_{18} \\neq c_{2} \\, \\wedge \\, c_{18} \\neq c_{11} \\, \\wedge \\, c_{18} \\neq c_{10} \\, \\wedge \\, \\top \\, \\wedge \\, c_{20} \\neq c_{11} \\, \\wedge \\, c_{20} \\neq c_{2} \\, \\wedge \\, c_{21} \\neq c_{17} \\, \\wedge \\, c_{21} \\neq c_{25} \\, \\wedge \\, c_{21} \\neq c_{6} \\, \\wedge \\, c_{21} \\neq c_{11} \\, \\wedge \\, c_{22} \\neq c_{26} \\, \\wedge \\, c_{23} \\neq c_{3} \\, \\wedge \\, c_{23} \\neq c_{13} \\, \\wedge \\, c_{24} \\neq c_{21} \\, \\wedge \\, c_{24} \\neq c_{13} \\, \\wedge \\, c_{24} \\neq c_{1} \\, \\wedge \\, c_{24} \\neq c_{6} \\, \\wedge \\, c_{25} \\neq c_{1} \\, \\wedge \\, c_{25} \\neq c_{13} \\, \\wedge \\, c_{25} \\neq c_{4} \\, \\wedge \\, c_{25} \\neq c_{15} \\, \\wedge \\, c_{26} \\neq c_{10} \\, \\wedge \\, c_{26} \\neq c_{22} \\, \\wedge \\, c_{27} \\neq c_{9} \\, \\wedge \\, c_{28} \\neq c_{21} \\, \\wedge \\, c_{28} \\neq c_{23} \\, \\wedge \\, c_{28} \\neq c_{13} \\, \\wedge \\, c_{28} \\neq c_{25}$"
      ],
      "text/plain": [
       "And(Ne(c1, c11), Ne(c1, c6), Ne(c1, c24), Ne(c1, c13), Ne(c1, c25), Ne(c1, c15), Ne(c2, c20), Ne(c2, c11), Ne(c2, c18), Ne(c2, c10), Ne(c3, c23), Ne(c3, c12), Ne(c4, c25), Ne(c4, c13), T, Ne(c6, c11), Ne(c6, c21), Ne(c6, c24), Ne(c6, c1), Ne(c7, c11), Ne(c8, c16), Ne(c9, c27), Ne(c10, c2), Ne(c10, c18), Ne(c10, c11), Ne(c10, c15), Ne(c10, c26), Ne(c11, c7), Ne(c11, c21), Ne(c11, c6), Ne(c11, c1), Ne(c11, c10), Ne(c11, c18), Ne(c11, c2), Ne(c11, c20), Ne(c12, c3), Ne(c13, c24), Ne(c13, c23), Ne(c13, c4), Ne(c13, c25), Ne(c13, c1), T, Ne(c15, c10), Ne(c15, c1), Ne(c15, c25), Ne(c16, c8), Ne(c16, c17), Ne(c17, c16), Ne(c17, c21), Ne(c18, c2), Ne(c18, c11), Ne(c18, c10), T, Ne(c20, c11), Ne(c20, c2), Ne(c21, c17), Ne(c21, c25), Ne(c21, c6), Ne(c21, c11), Ne(c22, c26), Ne(c23, c3), Ne(c23, c13), Ne(c24, c21), Ne(c24, c13), Ne(c24, c1), Ne(c24, c6), Ne(c25, c1), Ne(c25, c13), Ne(c25, c4), Ne(c25, c15), Ne(c26, c10), Ne(c26, c22), Ne(c27, c9), Ne(c28, c21), Ne(c28, c23), Ne(c28, c13), Ne(c28, c25))"
      ]
     },
     "metadata": {},
     "output_type": "display_data"
    }
   ],
   "source": [
    "sympy.var('c28') # Ukraine\n",
    "EUx = EU.copy()\n",
    "EUx.append(c28)\n",
    "psix = psi & Ne(c28, c21) & Ne(c28, c23) & Ne(c28, c13) & Ne(c28, c25)\n",
    "display(psix)"
   ]
  },
  {
   "cell_type": "code",
   "execution_count": 17,
   "id": "46a5255b",
   "metadata": {},
   "outputs": [
    {
     "data": {
      "text/latex": [
       "$\\displaystyle \\overline{C_2} \\, \\vee \\, C_5$"
      ],
      "text/plain": [
       "Or(C_(2), C(5))"
      ]
     },
     "metadata": {},
     "output_type": "display_data"
    },
    {
     "data": {
      "text/latex": [
       "$\\displaystyle \\overline{C_2} \\, \\vee \\, (C_3 \\, \\wedge \\, C_4 \\, \\wedge \\, C_5)$"
      ],
      "text/plain": [
       "Or(C_(2), And(C(3), C(4), C(5)))"
      ]
     },
     "metadata": {},
     "output_type": "display_data"
    }
   ],
   "source": [
    "EU1 = EUx.copy()\n",
    "EU1.remove(c1)   # Austria\n",
    "EU1.remove(c13)  # Hungary\n",
    "EU1.remove(c21)  # Poland\n",
    "EU1.remove(c28)  # Ukraine\n",
    "phi1 = psix\n",
    "for c in EU1:\n",
    "    phi1 = Ex(c, phi1)\n",
    "chi = Ne(c1, c13) & Ne(c13, c28) & Ne(c28, c21)\n",
    "phi1 = All(c1, All(c13, All(c21, All(c28, chi >> phi1))))\n",
    "#display(phi1)\n",
    "#%timeit qe()(phi1) # 173ms\n",
    "phix_prime = qe(phi1)\n",
    "display(phix_prime)\n",
    "display(C_(2) | (C(3) & C(4) & C(5)))"
   ]
  },
  {
   "cell_type": "code",
   "execution_count": 18,
   "id": "37eb9e54",
   "metadata": {},
   "outputs": [
    {
     "data": {
      "text/latex": [
       "$\\displaystyle \\exists c_{1} \\, \\exists c_{13} \\, \\exists c_{21} \\, \\exists c_{28} \\, (c_{1} \\neq c_{13} \\, \\wedge \\, c_{13} \\neq c_{28} \\, \\wedge \\, c_{28} \\neq c_{21}) \\, \\wedge \\, \\forall c_{1} \\, \\forall c_{13} \\, \\forall c_{21} \\, \\forall c_{28} \\, (c_{1} \\neq c_{13} \\, \\wedge \\, c_{13} \\neq c_{28} \\, \\wedge \\, c_{28} \\neq c_{21} \\, \\longrightarrow \\, \\forall c_{1} \\, \\forall c_{13} \\, \\forall c_{21} \\, \\forall c_{28} \\, (c_{1} \\neq c_{13} \\, \\wedge \\, c_{13} \\neq c_{28} \\, \\wedge \\, c_{28} \\neq c_{21} \\, \\longrightarrow \\, \\exists c_{27} \\, \\exists c_{26} \\, \\exists c_{25} \\, \\exists c_{24} \\, \\exists c_{23} \\, \\exists c_{22} \\, \\exists c_{20} \\, \\exists c_{19} \\, \\exists c_{18} \\, \\exists c_{17} \\, \\exists c_{16} \\, \\exists c_{15} \\, \\exists c_{14} \\, \\exists c_{12} \\, \\exists c_{11} \\, \\exists c_{10} \\, \\exists c_{9} \\, \\exists c_{8} \\, \\exists c_{7} \\, \\exists c_{6} \\, \\exists c_{5} \\, \\exists c_{4} \\, \\exists c_{3} \\, \\exists c_{2} \\, (c_{1} \\neq c_{11} \\, \\wedge \\, c_{1} \\neq c_{6} \\, \\wedge \\, c_{1} \\neq c_{24} \\, \\wedge \\, c_{1} \\neq c_{13} \\, \\wedge \\, c_{1} \\neq c_{25} \\, \\wedge \\, c_{1} \\neq c_{15} \\, \\wedge \\, c_{2} \\neq c_{20} \\, \\wedge \\, c_{2} \\neq c_{11} \\, \\wedge \\, c_{2} \\neq c_{18} \\, \\wedge \\, c_{2} \\neq c_{10} \\, \\wedge \\, c_{3} \\neq c_{23} \\, \\wedge \\, c_{3} \\neq c_{12} \\, \\wedge \\, c_{4} \\neq c_{25} \\, \\wedge \\, c_{4} \\neq c_{13} \\, \\wedge \\, \\top \\, \\wedge \\, c_{6} \\neq c_{11} \\, \\wedge \\, c_{6} \\neq c_{21} \\, \\wedge \\, c_{6} \\neq c_{24} \\, \\wedge \\, c_{6} \\neq c_{1} \\, \\wedge \\, c_{7} \\neq c_{11} \\, \\wedge \\, c_{8} \\neq c_{16} \\, \\wedge \\, c_{9} \\neq c_{27} \\, \\wedge \\, c_{10} \\neq c_{2} \\, \\wedge \\, c_{10} \\neq c_{18} \\, \\wedge \\, c_{10} \\neq c_{11} \\, \\wedge \\, c_{10} \\neq c_{15} \\, \\wedge \\, c_{10} \\neq c_{26} \\, \\wedge \\, c_{11} \\neq c_{7} \\, \\wedge \\, c_{11} \\neq c_{21} \\, \\wedge \\, c_{11} \\neq c_{6} \\, \\wedge \\, c_{11} \\neq c_{1} \\, \\wedge \\, c_{11} \\neq c_{10} \\, \\wedge \\, c_{11} \\neq c_{18} \\, \\wedge \\, c_{11} \\neq c_{2} \\, \\wedge \\, c_{11} \\neq c_{20} \\, \\wedge \\, c_{12} \\neq c_{3} \\, \\wedge \\, c_{13} \\neq c_{24} \\, \\wedge \\, c_{13} \\neq c_{23} \\, \\wedge \\, c_{13} \\neq c_{4} \\, \\wedge \\, c_{13} \\neq c_{25} \\, \\wedge \\, c_{13} \\neq c_{1} \\, \\wedge \\, \\top \\, \\wedge \\, c_{15} \\neq c_{10} \\, \\wedge \\, c_{15} \\neq c_{1} \\, \\wedge \\, c_{15} \\neq c_{25} \\, \\wedge \\, c_{16} \\neq c_{8} \\, \\wedge \\, c_{16} \\neq c_{17} \\, \\wedge \\, c_{17} \\neq c_{16} \\, \\wedge \\, c_{17} \\neq c_{21} \\, \\wedge \\, c_{18} \\neq c_{2} \\, \\wedge \\, c_{18} \\neq c_{11} \\, \\wedge \\, c_{18} \\neq c_{10} \\, \\wedge \\, \\top \\, \\wedge \\, c_{20} \\neq c_{11} \\, \\wedge \\, c_{20} \\neq c_{2} \\, \\wedge \\, c_{21} \\neq c_{17} \\, \\wedge \\, c_{21} \\neq c_{25} \\, \\wedge \\, c_{21} \\neq c_{6} \\, \\wedge \\, c_{21} \\neq c_{11} \\, \\wedge \\, c_{22} \\neq c_{26} \\, \\wedge \\, c_{23} \\neq c_{3} \\, \\wedge \\, c_{23} \\neq c_{13} \\, \\wedge \\, c_{24} \\neq c_{21} \\, \\wedge \\, c_{24} \\neq c_{13} \\, \\wedge \\, c_{24} \\neq c_{1} \\, \\wedge \\, c_{24} \\neq c_{6} \\, \\wedge \\, c_{25} \\neq c_{1} \\, \\wedge \\, c_{25} \\neq c_{13} \\, \\wedge \\, c_{25} \\neq c_{4} \\, \\wedge \\, c_{25} \\neq c_{15} \\, \\wedge \\, c_{26} \\neq c_{10} \\, \\wedge \\, c_{26} \\neq c_{22} \\, \\wedge \\, c_{27} \\neq c_{9} \\, \\wedge \\, c_{28} \\neq c_{21} \\, \\wedge \\, c_{28} \\neq c_{23} \\, \\wedge \\, c_{28} \\neq c_{13} \\, \\wedge \\, c_{28} \\neq c_{25})))$"
      ],
      "text/plain": [
       "And(Ex(c1, Ex(c13, Ex(c21, Ex(c28, And(Ne(c1, c13), Ne(c13, c28), Ne(c28, c21)))))), All(c1, All(c13, All(c21, All(c28, Implies(And(Ne(c1, c13), Ne(c13, c28), Ne(c28, c21)), All(c1, All(c13, All(c21, All(c28, Implies(And(Ne(c1, c13), Ne(c13, c28), Ne(c28, c21)), Ex(c27, Ex(c26, Ex(c25, Ex(c24, Ex(c23, Ex(c22, Ex(c20, Ex(c19, Ex(c18, Ex(c17, Ex(c16, Ex(c15, Ex(c14, Ex(c12, Ex(c11, Ex(c10, Ex(c9, Ex(c8, Ex(c7, Ex(c6, Ex(c5, Ex(c4, Ex(c3, Ex(c2, And(Ne(c1, c11), Ne(c1, c6), Ne(c1, c24), Ne(c1, c13), Ne(c1, c25), Ne(c1, c15), Ne(c2, c20), Ne(c2, c11), Ne(c2, c18), Ne(c2, c10), Ne(c3, c23), Ne(c3, c12), Ne(c4, c25), Ne(c4, c13), T, Ne(c6, c11), Ne(c6, c21), Ne(c6, c24), Ne(c6, c1), Ne(c7, c11), Ne(c8, c16), Ne(c9, c27), Ne(c10, c2), Ne(c10, c18), Ne(c10, c11), Ne(c10, c15), Ne(c10, c26), Ne(c11, c7), Ne(c11, c21), Ne(c11, c6), Ne(c11, c1), Ne(c11, c10), Ne(c11, c18), Ne(c11, c2), Ne(c11, c20), Ne(c12, c3), Ne(c13, c24), Ne(c13, c23), Ne(c13, c4), Ne(c13, c25), Ne(c13, c1), T, Ne(c15, c10), Ne(c15, c1), Ne(c15, c25), Ne(c16, c8), Ne(c16, c17), Ne(c17, c16), Ne(c17, c21), Ne(c18, c2), Ne(c18, c11), Ne(c18, c10), T, Ne(c20, c11), Ne(c20, c2), Ne(c21, c17), Ne(c21, c25), Ne(c21, c6), Ne(c21, c11), Ne(c22, c26), Ne(c23, c3), Ne(c23, c13), Ne(c24, c21), Ne(c24, c13), Ne(c24, c1), Ne(c24, c6), Ne(c25, c1), Ne(c25, c13), Ne(c25, c4), Ne(c25, c15), Ne(c26, c10), Ne(c26, c22), Ne(c27, c9), Ne(c28, c21), Ne(c28, c23), Ne(c28, c13), Ne(c28, c25)))))))))))))))))))))))))))))))))))))"
      ]
     },
     "metadata": {},
     "output_type": "display_data"
    },
    {
     "data": {
      "text/latex": [
       "$\\displaystyle C_5$"
      ],
      "text/plain": [
       "C(5)"
      ]
     },
     "execution_count": 18,
     "metadata": {},
     "output_type": "execute_result"
    },
    {
     "data": {
      "text/latex": [
       "$\\displaystyle C_2 \\, \\wedge \\, C_3 \\, \\wedge \\, C_4 \\, \\wedge \\, C_5$"
      ],
      "text/plain": [
       "And(C(2), C(3), C(4), C(5))"
      ]
     },
     "execution_count": 18,
     "metadata": {},
     "output_type": "execute_result"
    }
   ],
   "source": [
    "phi2 = Ex(c1, Ex(c13, Ex(c21, Ex(c28, chi)))) & All(c1, All(c13, All(c21, All(c28, chi >> phi1))))\n",
    "display(phi2)\n",
    "#%timeit qe()(phi2)  # 550ms\n",
    "phix_prime = qe(phi2)\n",
    "phix_prime.to_dnf()\n",
    "C(2) & C(3) & C(4) & C(5)"
   ]
  },
  {
   "cell_type": "code",
   "execution_count": 20,
   "id": "3cdebe3c",
   "metadata": {},
   "outputs": [
    {
     "data": {
      "text/latex": [
       "$\\displaystyle \\exists c_{27} \\, \\exists c_{26} \\, \\exists c_{25} \\, \\exists c_{24} \\, \\exists c_{23} \\, \\exists c_{22} \\, \\exists c_{20} \\, \\exists c_{19} \\, \\exists c_{18} \\, \\exists c_{17} \\, \\exists c_{16} \\, \\exists c_{15} \\, \\exists c_{14} \\, \\exists c_{12} \\, \\exists c_{11} \\, \\exists c_{10} \\, \\exists c_{9} \\, \\exists c_{8} \\, \\exists c_{7} \\, \\exists c_{6} \\, \\exists c_{5} \\, \\exists c_{4} \\, \\exists c_{3} \\, \\exists c_{2} \\, (c_{1} \\neq c_{11} \\, \\wedge \\, c_{1} \\neq c_{6} \\, \\wedge \\, c_{1} \\neq c_{24} \\, \\wedge \\, c_{1} \\neq c_{13} \\, \\wedge \\, c_{1} \\neq c_{25} \\, \\wedge \\, c_{1} \\neq c_{15} \\, \\wedge \\, c_{2} \\neq c_{20} \\, \\wedge \\, c_{2} \\neq c_{11} \\, \\wedge \\, c_{2} \\neq c_{18} \\, \\wedge \\, c_{2} \\neq c_{10} \\, \\wedge \\, c_{3} \\neq c_{23} \\, \\wedge \\, c_{3} \\neq c_{12} \\, \\wedge \\, c_{4} \\neq c_{25} \\, \\wedge \\, c_{4} \\neq c_{13} \\, \\wedge \\, \\top \\, \\wedge \\, c_{6} \\neq c_{11} \\, \\wedge \\, c_{6} \\neq c_{21} \\, \\wedge \\, c_{6} \\neq c_{24} \\, \\wedge \\, c_{6} \\neq c_{1} \\, \\wedge \\, c_{7} \\neq c_{11} \\, \\wedge \\, c_{8} \\neq c_{16} \\, \\wedge \\, c_{9} \\neq c_{27} \\, \\wedge \\, c_{10} \\neq c_{2} \\, \\wedge \\, c_{10} \\neq c_{18} \\, \\wedge \\, c_{10} \\neq c_{11} \\, \\wedge \\, c_{10} \\neq c_{15} \\, \\wedge \\, c_{10} \\neq c_{26} \\, \\wedge \\, c_{11} \\neq c_{7} \\, \\wedge \\, c_{11} \\neq c_{21} \\, \\wedge \\, c_{11} \\neq c_{6} \\, \\wedge \\, c_{11} \\neq c_{1} \\, \\wedge \\, c_{11} \\neq c_{10} \\, \\wedge \\, c_{11} \\neq c_{18} \\, \\wedge \\, c_{11} \\neq c_{2} \\, \\wedge \\, c_{11} \\neq c_{20} \\, \\wedge \\, c_{12} \\neq c_{3} \\, \\wedge \\, c_{13} \\neq c_{24} \\, \\wedge \\, c_{13} \\neq c_{23} \\, \\wedge \\, c_{13} \\neq c_{4} \\, \\wedge \\, c_{13} \\neq c_{25} \\, \\wedge \\, c_{13} \\neq c_{1} \\, \\wedge \\, \\top \\, \\wedge \\, c_{15} \\neq c_{10} \\, \\wedge \\, c_{15} \\neq c_{1} \\, \\wedge \\, c_{15} \\neq c_{25} \\, \\wedge \\, c_{16} \\neq c_{8} \\, \\wedge \\, c_{16} \\neq c_{17} \\, \\wedge \\, c_{17} \\neq c_{16} \\, \\wedge \\, c_{17} \\neq c_{21} \\, \\wedge \\, c_{18} \\neq c_{2} \\, \\wedge \\, c_{18} \\neq c_{11} \\, \\wedge \\, c_{18} \\neq c_{10} \\, \\wedge \\, \\top \\, \\wedge \\, c_{20} \\neq c_{11} \\, \\wedge \\, c_{20} \\neq c_{2} \\, \\wedge \\, c_{21} \\neq c_{17} \\, \\wedge \\, c_{21} \\neq c_{25} \\, \\wedge \\, c_{21} \\neq c_{6} \\, \\wedge \\, c_{21} \\neq c_{11} \\, \\wedge \\, c_{22} \\neq c_{26} \\, \\wedge \\, c_{23} \\neq c_{3} \\, \\wedge \\, c_{23} \\neq c_{13} \\, \\wedge \\, c_{24} \\neq c_{21} \\, \\wedge \\, c_{24} \\neq c_{13} \\, \\wedge \\, c_{24} \\neq c_{1} \\, \\wedge \\, c_{24} \\neq c_{6} \\, \\wedge \\, c_{25} \\neq c_{1} \\, \\wedge \\, c_{25} \\neq c_{13} \\, \\wedge \\, c_{25} \\neq c_{4} \\, \\wedge \\, c_{25} \\neq c_{15} \\, \\wedge \\, c_{26} \\neq c_{10} \\, \\wedge \\, c_{26} \\neq c_{22} \\, \\wedge \\, c_{27} \\neq c_{9} \\, \\wedge \\, c_{28} \\neq c_{21} \\, \\wedge \\, c_{28} \\neq c_{23} \\, \\wedge \\, c_{28} \\neq c_{13} \\, \\wedge \\, c_{28} \\neq c_{25})$"
      ],
      "text/plain": [
       "Ex(c27, Ex(c26, Ex(c25, Ex(c24, Ex(c23, Ex(c22, Ex(c20, Ex(c19, Ex(c18, Ex(c17, Ex(c16, Ex(c15, Ex(c14, Ex(c12, Ex(c11, Ex(c10, Ex(c9, Ex(c8, Ex(c7, Ex(c6, Ex(c5, Ex(c4, Ex(c3, Ex(c2, And(Ne(c1, c11), Ne(c1, c6), Ne(c1, c24), Ne(c1, c13), Ne(c1, c25), Ne(c1, c15), Ne(c2, c20), Ne(c2, c11), Ne(c2, c18), Ne(c2, c10), Ne(c3, c23), Ne(c3, c12), Ne(c4, c25), Ne(c4, c13), T, Ne(c6, c11), Ne(c6, c21), Ne(c6, c24), Ne(c6, c1), Ne(c7, c11), Ne(c8, c16), Ne(c9, c27), Ne(c10, c2), Ne(c10, c18), Ne(c10, c11), Ne(c10, c15), Ne(c10, c26), Ne(c11, c7), Ne(c11, c21), Ne(c11, c6), Ne(c11, c1), Ne(c11, c10), Ne(c11, c18), Ne(c11, c2), Ne(c11, c20), Ne(c12, c3), Ne(c13, c24), Ne(c13, c23), Ne(c13, c4), Ne(c13, c25), Ne(c13, c1), T, Ne(c15, c10), Ne(c15, c1), Ne(c15, c25), Ne(c16, c8), Ne(c16, c17), Ne(c17, c16), Ne(c17, c21), Ne(c18, c2), Ne(c18, c11), Ne(c18, c10), T, Ne(c20, c11), Ne(c20, c2), Ne(c21, c17), Ne(c21, c25), Ne(c21, c6), Ne(c21, c11), Ne(c22, c26), Ne(c23, c3), Ne(c23, c13), Ne(c24, c21), Ne(c24, c13), Ne(c24, c1), Ne(c24, c6), Ne(c25, c1), Ne(c25, c13), Ne(c25, c4), Ne(c25, c15), Ne(c26, c10), Ne(c26, c22), Ne(c27, c9), Ne(c28, c21), Ne(c28, c23), Ne(c28, c13), Ne(c28, c25))))))))))))))))))))))))))"
      ]
     },
     "metadata": {},
     "output_type": "display_data"
    },
    {
     "data": {
      "text/latex": [
       "$\\displaystyle (c_{1} \\neq c_{13} \\, \\wedge \\, c_{13} \\neq c_{28} \\, \\wedge \\, c_{21} \\neq c_{28} \\, \\wedge \\, C_5) \\, \\vee \\, (C_4 \\, \\wedge \\, c_{1} \\neq c_{13} \\, \\wedge \\, c_{1} = c_{21} \\, \\wedge \\, c_{13} \\neq c_{28} \\, \\wedge \\, c_{21} \\neq c_{28}) \\, \\vee \\, (C_4 \\, \\wedge \\, c_{1} \\neq c_{13} \\, \\wedge \\, c_{13} \\neq c_{28} \\, \\wedge \\, c_{21} \\neq c_{28} \\, \\wedge \\, c_{1} = c_{28}) \\, \\vee \\, (C_4 \\, \\wedge \\, c_{1} \\neq c_{13} \\, \\wedge \\, c_{13} \\neq c_{28} \\, \\wedge \\, c_{21} \\neq c_{28} \\, \\wedge \\, c_{13} = c_{21})$"
      ],
      "text/plain": [
       "Or(And(Ne(c1, c13), Ne(c13, c28), Ne(c21, c28), C(5)), And(C(4), Ne(c1, c13), Eq(c1, c21), Ne(c13, c28), Ne(c21, c28)), And(C(4), Ne(c1, c13), Ne(c13, c28), Ne(c21, c28), Eq(c1, c28)), And(C(4), Ne(c1, c13), Ne(c13, c28), Ne(c21, c28), Eq(c13, c21)))"
      ]
     },
     "metadata": {},
     "output_type": "display_data"
    },
    {
     "data": {
      "text/latex": [
       "$\\displaystyle \\top$"
      ],
      "text/plain": [
       "T"
      ]
     },
     "metadata": {},
     "output_type": "display_data"
    }
   ],
   "source": [
    "phi3 = psix\n",
    "for c in EU1:\n",
    "    phi3 = Ex(c, phi3)\n",
    "display(phi3)\n",
    "#%timeit qe()(phi3)\n",
    "display(qe(phi3))\n",
    "expected = simplify(Or(And(Ne(c21, c28), Ne(c13, c28), Eq(c1, c28), Ne(c1, c13), C(2), C(3), C(4)), And(Ne(c21, c28), Eq(c1, c21), Ne(c13, c28), Ne(c1, c13), C(2), C(3), C(4)), And(Ne(c21, c28), Eq(c13, c21), Ne(c13, c28), Ne(c1, c13), C(2), C(3), C(4)), And(Ne(c21, c28), Ne(c13, c28), Ne(c1, c13), C(2), C(3), C(4), C(5))))\n",
    "pho = qe(closure(All, Equivalent(\n",
    "qe(phi3),\n",
    "expected\n",
    ")))\n",
    "display(pho)"
   ]
  }
 ],
 "metadata": {
  "kernelspec": {
   "display_name": "Python 3 (ipykernel)",
   "language": "python",
   "name": "python3"
  },
  "language_info": {
   "codemirror_mode": {
    "name": "ipython",
    "version": 3
   },
   "file_extension": ".py",
   "mimetype": "text/x-python",
   "name": "python",
   "nbconvert_exporter": "python",
   "pygments_lexer": "ipython3",
   "version": "3.10.9"
  }
 },
 "nbformat": 4,
 "nbformat_minor": 5
}
