{
 "cells": [
  {
   "cell_type": "code",
   "execution_count": 2,
   "id": "79506fff",
   "metadata": {},
   "outputs": [],
   "source": [
    "%config InteractiveShell.ast_node_interactivity='all'\n",
    "\n",
    "from logic1 import *\n",
    "from qe.theories.zmod import qe, Eq, Ne, Simplifier\n",
    "from qe.util import show_progress\n",
    "from qe.util import eq0\n",
    "from sympy.abc import a, b, x, y, z\n",
    "from itertools import combinations"
   ]
  },
  {
   "cell_type": "code",
   "execution_count": 3,
   "id": "5e932fd2",
   "metadata": {},
   "outputs": [
    {
     "data": {
      "text/latex": [
       "$\\displaystyle \\exists x \\, (x = 1 \\, \\wedge \\, \\exists x \\, (a = x \\, \\wedge \\, x = 3))$"
      ],
      "text/plain": [
       "Ex(x, And(Eq(x, 1), Ex(x, And(Eq(a, x), Eq(x, 3)))))"
      ]
     },
     "execution_count": 3,
     "metadata": {},
     "output_type": "execute_result"
    },
    {
     "data": {
      "text/latex": [
       "$\\displaystyle \\exists x \\, (x + 2 = 0 \\, \\wedge \\, \\exists x \\, (a + 2 x = 0 \\, \\wedge \\, x = 0))$"
      ],
      "text/plain": [
       "Ex(x, And(Eq(x + 2, 0), Ex(x, And(Eq(a + 2*x, 0), Eq(x, 0)))))"
      ]
     },
     "execution_count": 3,
     "metadata": {},
     "output_type": "execute_result"
    }
   ],
   "source": [
    "φ = Ex(x, And(Eq(x, 1), Ex(x, And(Eq(a, x), Eq(x, 3)))))\n",
    "φ\n",
    "Simplifier(3)(φ)\n",
    "#transform(φ, 3)"
   ]
  },
  {
   "cell_type": "code",
   "execution_count": 4,
   "id": "30562874",
   "metadata": {},
   "outputs": [
    {
     "data": {
      "text/latex": [
       "$\\displaystyle \\forall x \\, \\forall y \\, \\exists z \\, (x + y = z)$"
      ],
      "text/plain": [
       "All(x, All(y, Ex(z, Eq(x + y, z))))"
      ]
     },
     "execution_count": 4,
     "metadata": {},
     "output_type": "execute_result"
    },
    {
     "data": {
      "text/latex": [
       "$\\displaystyle \\top$"
      ],
      "text/plain": [
       "T"
      ]
     },
     "execution_count": 4,
     "metadata": {},
     "output_type": "execute_result"
    },
    {
     "data": {
      "text/latex": [
       "$\\displaystyle \\top$"
      ],
      "text/plain": [
       "T"
      ]
     },
     "execution_count": 4,
     "metadata": {},
     "output_type": "execute_result"
    }
   ],
   "source": [
    "show_progress(False)\n",
    "φ = All(x, All(y, Ex(z, Eq(x + y, z))))\n",
    "φ  # pyright: ignore [reportUnusedExpression]\n",
    "qe(2)(φ)\n",
    "T"
   ]
  },
  {
   "cell_type": "code",
   "execution_count": 5,
   "id": "241eb4e7",
   "metadata": {},
   "outputs": [
    {
     "data": {
      "text/latex": [
       "$\\displaystyle \\exists x \\, (a x = 1)$"
      ],
      "text/plain": [
       "Ex(x, Eq(a*x, 1))"
      ]
     },
     "execution_count": 5,
     "metadata": {},
     "output_type": "execute_result"
    },
    {
     "data": {
      "text/latex": [
       "$\\displaystyle 5 a + 5 = 0 \\, \\vee \\, 4 a + 5 = 0 \\, \\vee \\, 3 a + 5 = 0 \\, \\vee \\, 2 a + 5 = 0 \\, \\vee \\, a + 5 = 0$"
      ],
      "text/plain": [
       "Or(Eq(5*a + 5, 0), Eq(4*a + 5, 0), Eq(3*a + 5, 0), Eq(2*a + 5, 0), Eq(a + 5, 0))"
      ]
     },
     "execution_count": 5,
     "metadata": {},
     "output_type": "execute_result"
    },
    {
     "data": {
      "text/latex": [
       "$\\displaystyle 5 a + 5 = 0 \\, \\vee \\, 4 a + 5 = 0 \\, \\vee \\, 3 a + 5 = 0 \\, \\vee \\, 2 a + 5 = 0 \\, \\vee \\, a + 5 = 0$"
      ],
      "text/plain": [
       "Or(Eq(5*a + 5, 0), Eq(4*a + 5, 0), Eq(3*a + 5, 0), Eq(2*a + 5, 0), Eq(a + 5, 0))"
      ]
     },
     "execution_count": 5,
     "metadata": {},
     "output_type": "execute_result"
    },
    {
     "data": {
      "text/latex": [
       "$\\displaystyle 5 a + 5 = 0 \\, \\vee \\, 4 a + 5 = 0 \\, \\vee \\, 3 a + 5 = 0 \\, \\vee \\, 2 a + 5 = 0 \\, \\vee \\, a + 5 = 0$"
      ],
      "text/plain": [
       "Or(Eq(5*a + 5, 0), Eq(4*a + 5, 0), Eq(3*a + 5, 0), Eq(2*a + 5, 0), Eq(a + 5, 0))"
      ]
     },
     "execution_count": 5,
     "metadata": {},
     "output_type": "execute_result"
    }
   ],
   "source": [
    "show_progress(False)\n",
    "φ = Ex(x, Eq(a*x, 1))\n",
    "φ\n",
    "m = 6\n",
    "#%timeit qe(m)(φ)\n",
    "qe(m)(φ)\n",
    "Or(*[eq0(i*a + (m - 1)) for i in range((m - 1), 0, -1)])\n",
    "#%timeit qe_alt(φ, m)\n",
    "qe(m)(φ, True)"
   ]
  },
  {
   "cell_type": "code",
   "execution_count": 7,
   "id": "48d35452",
   "metadata": {
    "scrolled": false
   },
   "outputs": [
    {
     "data": {
      "text/latex": [
       "$\\displaystyle \\forall a \\, (a \\neq 0 \\, \\longrightarrow \\, \\exists x \\, (a x = 1))$"
      ],
      "text/plain": [
       "All(a, Implies(Ne(a, 0), Ex(x, Eq(a*x, 1))))"
      ]
     },
     "metadata": {},
     "output_type": "display_data"
    },
    {
     "data": {
      "text/latex": [
       "$\\displaystyle \\top$"
      ],
      "text/plain": [
       "T"
      ]
     },
     "execution_count": 7,
     "metadata": {},
     "output_type": "execute_result"
    },
    {
     "data": {
      "text/latex": [
       "$\\displaystyle \\bot$"
      ],
      "text/plain": [
       "F"
      ]
     },
     "execution_count": 7,
     "metadata": {},
     "output_type": "execute_result"
    },
    {
     "data": {
      "text/latex": [
       "$\\displaystyle \\top$"
      ],
      "text/plain": [
       "T"
      ]
     },
     "execution_count": 7,
     "metadata": {},
     "output_type": "execute_result"
    }
   ],
   "source": [
    "show_progress(False)\n",
    "θ = All(a, Ne(a, 0) >> φ)\n",
    "display(θ)\n",
    "qe(3)(θ)\n",
    "qe(3)(θ, True)\n",
    "T"
   ]
  },
  {
   "cell_type": "code",
   "execution_count": 9,
   "id": "9c9161b7",
   "metadata": {
    "scrolled": false
   },
   "outputs": [
    {
     "data": {
      "text/latex": [
       "$\\displaystyle \\forall a \\, (a \\neq 0 \\, \\longrightarrow \\, \\exists x \\, (a x = 1))$"
      ],
      "text/plain": [
       "All(a, Implies(Ne(a, 0), Ex(x, Eq(a*x, 1))))"
      ]
     },
     "execution_count": 9,
     "metadata": {},
     "output_type": "execute_result"
    },
    {
     "data": {
      "text/latex": [
       "$\\displaystyle \\bot$"
      ],
      "text/plain": [
       "F"
      ]
     },
     "execution_count": 9,
     "metadata": {},
     "output_type": "execute_result"
    },
    {
     "data": {
      "text/latex": [
       "$\\displaystyle \\bot$"
      ],
      "text/plain": [
       "F"
      ]
     },
     "execution_count": 9,
     "metadata": {},
     "output_type": "execute_result"
    },
    {
     "data": {
      "text/latex": [
       "$\\displaystyle \\bot$"
      ],
      "text/plain": [
       "F"
      ]
     },
     "execution_count": 9,
     "metadata": {},
     "output_type": "execute_result"
    }
   ],
   "source": [
    "show_progress(False)\n",
    "θ\n",
    "qe(4)(θ)\n",
    "#θ.to_nnf()\n",
    "qe(4)(θ, True)\n",
    "F"
   ]
  },
  {
   "cell_type": "code",
   "execution_count": 10,
   "id": "a4425209",
   "metadata": {
    "scrolled": false
   },
   "outputs": [
    {
     "data": {
      "text/latex": [
       "$\\displaystyle \\forall x \\, \\forall y \\, (x y = 1 \\, \\longleftrightarrow \\, x = 1 \\, \\wedge \\, y = 1)$"
      ],
      "text/plain": [
       "All(x, All(y, Equivalent(Eq(x*y, 1), And(Eq(x, 1), Eq(y, 1)))))"
      ]
     },
     "execution_count": 10,
     "metadata": {},
     "output_type": "execute_result"
    },
    {
     "data": {
      "text/latex": [
       "$\\displaystyle \\top$"
      ],
      "text/plain": [
       "T"
      ]
     },
     "execution_count": 10,
     "metadata": {},
     "output_type": "execute_result"
    },
    {
     "data": {
      "text/latex": [
       "$\\displaystyle \\top$"
      ],
      "text/plain": [
       "T"
      ]
     },
     "execution_count": 10,
     "metadata": {},
     "output_type": "execute_result"
    }
   ],
   "source": [
    "show_progress(False)\n",
    "# and\n",
    "φ = All(x, All(y, Equivalent(Eq(x * y, 1), Eq(x, 1) & Eq(y, 1))))\n",
    "φ\n",
    "qe(2)(φ)\n",
    "T"
   ]
  },
  {
   "cell_type": "code",
   "execution_count": 11,
   "id": "76ce1879",
   "metadata": {
    "scrolled": false
   },
   "outputs": [
    {
     "data": {
      "text/latex": [
       "$\\displaystyle \\forall x \\, \\forall y \\, (x + y = 1 \\, \\longleftrightarrow \\, \\neg \\, (x = 1 \\, \\longleftrightarrow \\, y = 1))$"
      ],
      "text/plain": [
       "All(x, All(y, Equivalent(Eq(x + y, 1), Not(Equivalent(Eq(x, 1), Eq(y, 1))))))"
      ]
     },
     "execution_count": 11,
     "metadata": {},
     "output_type": "execute_result"
    },
    {
     "data": {
      "text/latex": [
       "$\\displaystyle \\bot$"
      ],
      "text/plain": [
       "F"
      ]
     },
     "execution_count": 11,
     "metadata": {},
     "output_type": "execute_result"
    },
    {
     "data": {
      "text/latex": [
       "$\\displaystyle \\top$"
      ],
      "text/plain": [
       "T"
      ]
     },
     "execution_count": 11,
     "metadata": {},
     "output_type": "execute_result"
    }
   ],
   "source": [
    "show_progress(False)\n",
    "# xor\n",
    "φ = All(x, All(y, Equivalent(Eq(x + y, 1), ~ Equivalent(Eq(x, 1), Eq(y, 1)))))\n",
    "φ\n",
    "qe(2)(φ)\n",
    "T"
   ]
  }
 ],
 "metadata": {
  "kernelspec": {
   "display_name": "Python 3 (ipykernel)",
   "language": "python",
   "name": "python3"
  },
  "language_info": {
   "codemirror_mode": {
    "name": "ipython",
    "version": 3
   },
   "file_extension": ".py",
   "mimetype": "text/x-python",
   "name": "python",
   "nbconvert_exporter": "python",
   "pygments_lexer": "ipython3",
   "version": "3.10.9"
  }
 },
 "nbformat": 4,
 "nbformat_minor": 5
}
